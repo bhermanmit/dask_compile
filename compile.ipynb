{
 "cells": [
  {
   "cell_type": "code",
   "execution_count": 1,
   "metadata": {
    "collapsed": false
   },
   "outputs": [],
   "source": [
    "import dask\n",
    "import dask.distributed\n",
    "import os\n",
    "\n",
    "import numpy.distutils.fcompiler.gnu"
   ]
  },
  {
   "cell_type": "code",
   "execution_count": 2,
   "metadata": {
    "collapsed": false
   },
   "outputs": [],
   "source": [
    "compiler = numpy.distutils.fcompiler.gnu.Gnu95FCompiler()"
   ]
  },
  {
   "cell_type": "code",
   "execution_count": 3,
   "metadata": {
    "collapsed": false
   },
   "outputs": [],
   "source": [
    "compiler.customize()"
   ]
  },
  {
   "cell_type": "code",
   "execution_count": 4,
   "metadata": {
    "collapsed": false
   },
   "outputs": [],
   "source": [
    "client = dask.distributed.Client('localhost:8786')"
   ]
  },
  {
   "cell_type": "code",
   "execution_count": 9,
   "metadata": {
    "collapsed": true
   },
   "outputs": [],
   "source": [
    "def compile(files):\n",
    "    compiler = numpy.distutils.fcompiler.gnu.Gnu95FCompiler()\n",
    "    compiler.customize()\n",
    "    prefix = '/home/bherman/Documents/repos/dask_compile'\n",
    "    os.chdir(prefix)\n",
    "    return compiler.compile(sources=[files[0]])[0]"
   ]
  },
  {
   "cell_type": "code",
   "execution_count": 10,
   "metadata": {
    "collapsed": true
   },
   "outputs": [],
   "source": [
    "def link(files):\n",
    "    compiler = numpy.distutils.fcompiler.gnu.Gnu95FCompiler()\n",
    "    compiler.customize()\n",
    "    prefix = '/home/bherman/Documents/repos/dask_compile'\n",
    "    os.chdir(prefix)\n",
    "    return compiler.link_executable(files, 'main.exe')"
   ]
  },
  {
   "cell_type": "code",
   "execution_count": 11,
   "metadata": {
    "collapsed": false
   },
   "outputs": [],
   "source": [
    "dsk = {'file1': (compile, ['file1.f90']),\n",
    "       'file2': (compile, ['file2.f90']),\n",
    "       'file3': (compile, ['file3.f90', 'file1', 'file2']),\n",
    "       'main': (compile, ['main.f90', 'file1', 'file2', 'file3']),\n",
    "       'link': (link, ['file1', 'file2', 'file3', 'main'])}"
   ]
  },
  {
   "cell_type": "code",
   "execution_count": 12,
   "metadata": {
    "collapsed": false
   },
   "outputs": [],
   "source": [
    "client.get(dsk, 'link')"
   ]
  },
  {
   "cell_type": "code",
   "execution_count": null,
   "metadata": {
    "collapsed": true
   },
   "outputs": [],
   "source": []
  }
 ],
 "metadata": {
  "kernelspec": {
   "display_name": "Python 2",
   "language": "python",
   "name": "python2"
  },
  "language_info": {
   "codemirror_mode": {
    "name": "ipython",
    "version": 2
   },
   "file_extension": ".py",
   "mimetype": "text/x-python",
   "name": "python",
   "nbconvert_exporter": "python",
   "pygments_lexer": "ipython2",
   "version": "2.7.12"
  }
 },
 "nbformat": 4,
 "nbformat_minor": 0
}
